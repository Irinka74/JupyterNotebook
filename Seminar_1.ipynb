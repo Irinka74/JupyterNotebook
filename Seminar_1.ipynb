{
 "cells": [
  {
   "attachments": {},
   "cell_type": "markdown",
   "id": "40257331",
   "metadata": {},
   "source": [
    "## Задание 1.\n",
    "#### 1. Соедините два словаря в один\n"
   ]
  },
  {
   "cell_type": "code",
   "execution_count": 2,
   "id": "6d5fcb29",
   "metadata": {},
   "outputs": [
    {
     "data": {
      "text/plain": [
       "{'One': 1, 'Two': 2, 'Three': 3, 'Four': 4, 'Five': 5, 'Six': 6}"
      ]
     },
     "execution_count": 2,
     "metadata": {},
     "output_type": "execute_result"
    }
   ],
   "source": [
    "dict1 = {'One': 1, 'Two': 2, 'Three': 3}\n",
    "dict2 = {'Four': 4, 'Five': 5, 'Six': 6}\n",
    "dict1.update(dict2)\n",
    "dict1"
   ]
  },
  {
   "attachments": {},
   "cell_type": "markdown",
   "id": "b3a5883b",
   "metadata": {},
   "source": [
    "#### 2. Напишите функцию, которая на вход принимает два словаря и возвращает один объединенный словарь\n"
   ]
  },
  {
   "cell_type": "code",
   "execution_count": 6,
   "id": "8fa3db07",
   "metadata": {},
   "outputs": [],
   "source": [
    "dict1 = {'One': 1, 'Two': 2, 'Three': 3}\n",
    "dict2 = {'Four': 4, 'Five': 5, 'Six': 6}"
   ]
  },
  {
   "cell_type": "code",
   "execution_count": 10,
   "id": "abed9a8b",
   "metadata": {},
   "outputs": [
    {
     "data": {
      "text/plain": [
       "{'One': 1, 'Two': 2, 'Three': 3, 'Four': 4, 'Five': 5, 'Six': 6}"
      ]
     },
     "execution_count": 10,
     "metadata": {},
     "output_type": "execute_result"
    }
   ],
   "source": [
    "def funck (dict1, dict2 ):\n",
    "    dict1.update(dict2)\n",
    "    return dict1 \n",
    "funck (dict1, dict2 )"
   ]
  },
  {
   "attachments": {},
   "cell_type": "markdown",
   "id": "92a8be31",
   "metadata": {},
   "source": [
    "## Задание 2.\n",
    "#### Напишите функцию, которая из двух списков, делает один словарь,<br> где элементы из первого списка - ключи, а элементы из второго списка - значения\n",
    "- Используйте аннотирование типов\n"
   ]
  },
  {
   "cell_type": "code",
   "execution_count": 12,
   "id": "f1880e05",
   "metadata": {
    "scrolled": true
   },
   "outputs": [
    {
     "data": {
      "text/plain": [
       "{}"
      ]
     },
     "execution_count": 12,
     "metadata": {},
     "output_type": "execute_result"
    }
   ],
   "source": [
    "dict()"
   ]
  },
  {
   "cell_type": "markdown",
   "id": "f85cb302",
   "metadata": {},
   "source": [
    "#### 2.1 Используя цикл for\n"
   ]
  },
  {
   "cell_type": "code",
   "execution_count": 18,
   "id": "c57e7a1c",
   "metadata": {},
   "outputs": [],
   "source": [
    "keys = ['One', 'Two', 'Three']\n",
    "values = [1, 2, 3]\n",
    "    "
   ]
  },
  {
   "cell_type": "code",
   "execution_count": 20,
   "id": "6224453f",
   "metadata": {},
   "outputs": [
    {
     "data": {
      "text/plain": [
       "{'One': 1, 'Two': 2, 'Three': 3}"
      ]
     },
     "execution_count": 20,
     "metadata": {},
     "output_type": "execute_result"
    }
   ],
   "source": [
    "def get_dict(key, values) :\n",
    "    res = {}\n",
    "    for i in range(len(keys)):\n",
    "        res.update(\n",
    "            {\n",
    "                keys[i]: values[i]\n",
    "            }\n",
    "           )\n",
    "    return res\n",
    "get_dict(keys, values)"
   ]
  },
  {
   "cell_type": "markdown",
   "id": "00c3d9c5",
   "metadata": {},
   "source": [
    "#### 2.2 Используя dict comprehensions\n"
   ]
  },
  {
   "cell_type": "code",
   "execution_count": 24,
   "id": "24a94e05",
   "metadata": {},
   "outputs": [
    {
     "data": {
      "text/plain": [
       "{'One': 1, 'Two': 2, 'Three': 3}"
      ]
     },
     "execution_count": 24,
     "metadata": {},
     "output_type": "execute_result"
    }
   ],
   "source": [
    "def get_dict(key, values) :\n",
    "    return {keys[i]: values[i]  for i in range(len(keys))}\n",
    "get_dict(keys, values)"
   ]
  },
  {
   "attachments": {},
   "cell_type": "markdown",
   "id": "cd506272",
   "metadata": {},
   "source": [
    "## Задание 3.\n",
    "#### Извлеките только два ключа name и age из представленного словаря\n"
   ]
  },
  {
   "cell_type": "code",
   "execution_count": 25,
   "id": "3f418a2e",
   "metadata": {},
   "outputs": [],
   "source": [
    "client_dict = {\n",
    "    \"name\": \"John\",\n",
    "    \"age\": 25,\n",
    "    \"salary\": 5000,\n",
    "    \"city\": \"Moscow\"\n",
    "}"
   ]
  },
  {
   "cell_type": "code",
   "execution_count": 26,
   "id": "da1d48c0",
   "metadata": {},
   "outputs": [],
   "source": [
    "keys = ['name', 'age']"
   ]
  },
  {
   "cell_type": "markdown",
   "id": "d97b94e7",
   "metadata": {},
   "source": [
    "#### 3.1 Напишите функцию с циклом for\n",
    "Функция на вход принимает:\n",
    "- исходный словарь\n",
    "- ключи, которые нужно извлечь (аргумент по умолчанию)\n",
    "- На выходе словарь с нужными ключами\n",
    "- Используйте аннотирование типов\n"
   ]
  },
  {
   "cell_type": "code",
   "execution_count": 40,
   "id": "a10690cc",
   "metadata": {},
   "outputs": [
    {
     "data": {
      "text/plain": [
       "{'name': 'John', 'age': 25}"
      ]
     },
     "execution_count": 40,
     "metadata": {},
     "output_type": "execute_result"
    }
   ],
   "source": [
    "def get_keys (dict1, keys):\n",
    "    res = {}\n",
    "    for i in keys:\n",
    "        res.update(\n",
    "            {\n",
    "                i: dict1[i]\n",
    "             }\n",
    "           )\n",
    "    return res  \n",
    "\n",
    "get_keys(client_dict, keys)"
   ]
  },
  {
   "cell_type": "markdown",
   "id": "015d83c9",
   "metadata": {},
   "source": [
    "#### 3.2 Используя dict comprehensions\n"
   ]
  },
  {
   "cell_type": "code",
   "execution_count": 41,
   "id": "b6361dc1",
   "metadata": {},
   "outputs": [
    {
     "data": {
      "text/plain": [
       "{'name': 'John', 'age': 25}"
      ]
     },
     "execution_count": 41,
     "metadata": {},
     "output_type": "execute_result"
    }
   ],
   "source": [
    "new_dict = {i: client_dict[i] for i in keys}\n",
    "new_dict"
   ]
  },
  {
   "attachments": {},
   "cell_type": "markdown",
   "id": "bd2d19b8",
   "metadata": {},
   "source": [
    "## Задание 5. \n",
    "\n",
    "#### 5.1 Найдите картинку в интернете и прикрепите её в ячейку с текстом\n"
   ]
  },
  {
   "cell_type": "markdown",
   "id": "261c792c",
   "metadata": {},
   "source": [
    "<img src=https://149695847.v2.pressablecdn.com/wp-content/uploads/2017/06/ea8853d740994d7a23b587d20033c262.jpg width=300>"
   ]
  },
  {
   "attachments": {},
   "cell_type": "markdown",
   "id": "0db21d15",
   "metadata": {},
   "source": [
    "#### 5.2 Создайте следующую таблицу в ячейке с текстом\n"
   ]
  },
  {
   "cell_type": "markdown",
   "id": "cb149f24",
   "metadata": {},
   "source": [
    "<table>\n",
    "      <tr>\n",
    "          <td> </td>\n",
    "          <td>До события</td>\n",
    "          <td>Во время события</td>\n",
    "        </tr>\n",
    "        <tr>\n",
    "           <td>1 контрольная точка</td>\n",
    "           <td>250</td>\n",
    "           <td>500</td>\n",
    "        </tr>\n",
    "        <tr>\n",
    "            <td>2 контрольная точка</td>\n",
    "           <td>350</td>\n",
    "           <td>700</td>\n",
    "       </tr>\n",
    "        <tr>\n",
    "          <td>3 контрольная точка</td>\n",
    "         <td>400</td>\n",
    "            <td>800</td>\n",
    "       </tr> \n",
    "       <tr>\n",
    "           <td>Итого за победу</td>\n",
    "            <td>1000</td>\n",
    "           <td>2000</td>\n",
    "       </tr>\n",
    "</table>"
   ]
  },
  {
   "attachments": {},
   "cell_type": "markdown",
   "id": "39929519",
   "metadata": {},
   "source": [
    "## Задание 6.\n",
    "\n",
    "#### Напишите функцию, которая может принимать любое количество трат пользователя и считать сумму и среднее.\n",
    "- На вход поступают целочисленные значения в любом количестве\n",
    "- На выходе словарь с ключами суммы трат и средней траты\n"
   ]
  },
  {
   "cell_type": "code",
   "execution_count": 49,
   "id": "d69c1f5b",
   "metadata": {},
   "outputs": [
    {
     "data": {
      "text/plain": [
       "{'sum': 317, 'mean': 63.4}"
      ]
     },
     "execution_count": 49,
     "metadata": {},
     "output_type": "execute_result"
    }
   ],
   "source": [
    "def calc_purchases(*args):\n",
    "    sum_purch = sum(args)\n",
    "    n_purch = len(args)\n",
    "    return {\n",
    "        'sum': sum_purch,\n",
    "        'mean': sum_purch / n_purch\n",
    "      }\n",
    "calc_purchases(101, 74, 23, 89, 30)    "
   ]
  },
  {
   "cell_type": "code",
   "execution_count": null,
   "id": "41987015",
   "metadata": {},
   "outputs": [],
   "source": []
  }
 ],
 "metadata": {
  "kernelspec": {
   "display_name": "Python 3 (ipykernel)",
   "language": "python",
   "name": "python3"
  },
  "language_info": {
   "codemirror_mode": {
    "name": "ipython",
    "version": 3
   },
   "file_extension": ".py",
   "mimetype": "text/x-python",
   "name": "python",
   "nbconvert_exporter": "python",
   "pygments_lexer": "ipython3",
   "version": "3.9.13"
  }
 },
 "nbformat": 4,
 "nbformat_minor": 5
}
